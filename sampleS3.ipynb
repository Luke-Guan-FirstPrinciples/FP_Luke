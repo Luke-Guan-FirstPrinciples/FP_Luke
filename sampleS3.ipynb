{
  "nbformat": 4,
  "nbformat_minor": 0,
  "metadata": {
    "colab": {
      "provenance": []
    },
    "kernelspec": {
      "name": "python3",
      "display_name": "Python 3"
    },
    "language_info": {
      "name": "python"
    }
  },
  "cells": [
    {
      "cell_type": "code",
      "execution_count": null,
      "metadata": {
        "colab": {
          "base_uri": "https://localhost:8080/"
        },
        "id": "zpcgjT5XnDe7",
        "outputId": "b32ca0cf-b8c0-414f-fff4-6dcab91778fa"
      },
      "outputs": [
        {
          "output_type": "stream",
          "name": "stdout",
          "text": [
            "Collecting boto3\n",
            "  Downloading boto3-1.38.27-py3-none-any.whl.metadata (6.6 kB)\n",
            "Collecting botocore<1.39.0,>=1.38.27 (from boto3)\n",
            "  Downloading botocore-1.38.27-py3-none-any.whl.metadata (5.7 kB)\n",
            "Collecting jmespath<2.0.0,>=0.7.1 (from boto3)\n",
            "  Downloading jmespath-1.0.1-py3-none-any.whl.metadata (7.6 kB)\n",
            "Collecting s3transfer<0.14.0,>=0.13.0 (from boto3)\n",
            "  Downloading s3transfer-0.13.0-py3-none-any.whl.metadata (1.7 kB)\n",
            "Requirement already satisfied: python-dateutil<3.0.0,>=2.1 in /usr/local/lib/python3.11/dist-packages (from botocore<1.39.0,>=1.38.27->boto3) (2.9.0.post0)\n",
            "Requirement already satisfied: urllib3!=2.2.0,<3,>=1.25.4 in /usr/local/lib/python3.11/dist-packages (from botocore<1.39.0,>=1.38.27->boto3) (2.4.0)\n",
            "Requirement already satisfied: six>=1.5 in /usr/local/lib/python3.11/dist-packages (from python-dateutil<3.0.0,>=2.1->botocore<1.39.0,>=1.38.27->boto3) (1.17.0)\n",
            "Downloading boto3-1.38.27-py3-none-any.whl (139 kB)\n",
            "\u001b[2K   \u001b[90m━━━━━━━━━━━━━━━━━━━━━━━━━━━━━━━━━━━━━━━━\u001b[0m \u001b[32m139.9/139.9 kB\u001b[0m \u001b[31m2.6 MB/s\u001b[0m eta \u001b[36m0:00:00\u001b[0m\n",
            "\u001b[?25hDownloading botocore-1.38.27-py3-none-any.whl (13.6 MB)\n",
            "\u001b[2K   \u001b[90m━━━━━━━━━━━━━━━━━━━━━━━━━━━━━━━━━━━━━━━━\u001b[0m \u001b[32m13.6/13.6 MB\u001b[0m \u001b[31m77.1 MB/s\u001b[0m eta \u001b[36m0:00:00\u001b[0m\n",
            "\u001b[?25hDownloading jmespath-1.0.1-py3-none-any.whl (20 kB)\n",
            "Downloading s3transfer-0.13.0-py3-none-any.whl (85 kB)\n",
            "\u001b[2K   \u001b[90m━━━━━━━━━━━━━━━━━━━━━━━━━━━━━━━━━━━━━━━━\u001b[0m \u001b[32m85.2/85.2 kB\u001b[0m \u001b[31m5.6 MB/s\u001b[0m eta \u001b[36m0:00:00\u001b[0m\n",
            "\u001b[?25hInstalling collected packages: jmespath, botocore, s3transfer, boto3\n",
            "Successfully installed boto3-1.38.27 botocore-1.38.27 jmespath-1.0.1 s3transfer-0.13.0\n"
          ]
        }
      ],
      "source": [
        "!pip install boto3\n"
      ]
    },
    {
      "cell_type": "code",
      "source": [
        "# ✅ Step 1: Install boto3 (only needed once per Colab session)\n",
        "!pip install boto3\n",
        "\n",
        "\n"
      ],
      "metadata": {
        "colab": {
          "base_uri": "https://localhost:8080/"
        },
        "id": "dWkRM1bmnWVp",
        "outputId": "40cd7966-8363-469c-a9b0-c313ff770958"
      },
      "execution_count": null,
      "outputs": [
        {
          "output_type": "stream",
          "name": "stdout",
          "text": [
            "Requirement already satisfied: boto3 in /usr/local/lib/python3.11/dist-packages (1.38.27)\n",
            "Requirement already satisfied: botocore<1.39.0,>=1.38.27 in /usr/local/lib/python3.11/dist-packages (from boto3) (1.38.27)\n",
            "Requirement already satisfied: jmespath<2.0.0,>=0.7.1 in /usr/local/lib/python3.11/dist-packages (from boto3) (1.0.1)\n",
            "Requirement already satisfied: s3transfer<0.14.0,>=0.13.0 in /usr/local/lib/python3.11/dist-packages (from boto3) (0.13.0)\n",
            "Requirement already satisfied: python-dateutil<3.0.0,>=2.1 in /usr/local/lib/python3.11/dist-packages (from botocore<1.39.0,>=1.38.27->boto3) (2.9.0.post0)\n",
            "Requirement already satisfied: urllib3!=2.2.0,<3,>=1.25.4 in /usr/local/lib/python3.11/dist-packages (from botocore<1.39.0,>=1.38.27->boto3) (2.4.0)\n",
            "Requirement already satisfied: six>=1.5 in /usr/local/lib/python3.11/dist-packages (from python-dateutil<3.0.0,>=2.1->botocore<1.39.0,>=1.38.27->boto3) (1.17.0)\n"
          ]
        }
      ]
    },
    {
      "cell_type": "code",
      "source": [
        "# ✅ Step 2: Set AWS credentials (replace with your actual credentials or use a secure method like AWS IAM roles if on SageMaker)\n",
        "import os\n",
        "\n",
        "os.environ['AWS_ACCESS_KEY_ID'] = 'aaa'\n",
        "os.environ['AWS_SECRET_ACCESS_KEY'] = 'aaa/aaa/0K'\n",
        "# Optional: Set region\n",
        "os.environ['AWS_DEFAULT_REGION'] = 'us-east-1'  # change as needed\n",
        "\n",
        "# ✅ Step 3: Use boto3 to get first 3 folders\n",
        "import boto3\n",
        "\n",
        "# Initialize S3 client\n",
        "s3 = boto3.client('s3')"
      ],
      "metadata": {
        "id": "BowKsJJULgzY"
      },
      "execution_count": null,
      "outputs": []
    },
    {
      "cell_type": "code",
      "source": [
        "bucket_name = 'firstprinciples-datascience-pipelines'\n",
        "prefix = 'arxiv_paper_repository/unpack/'  # Folder inside the bucket\n",
        "\n",
        "# ✅ Step 3: List \"subfolders\" under the prefix\n",
        "response = s3.list_objects_v2(\n",
        "    Bucket=bucket_name,\n",
        "    Prefix=prefix,\n",
        "    Delimiter='/'\n",
        ")\n",
        "\n",
        "# ✅ Step 4: Extract first 3 folder names\n",
        "folders = response.get('CommonPrefixes', [])\n",
        "first_3_folders = [folder['Prefix'] for folder in folders[:3]]\n",
        "\n",
        "print(\"First 3 folders under\", prefix, \":\", first_3_folders)"
      ],
      "metadata": {
        "colab": {
          "base_uri": "https://localhost:8080/"
        },
        "id": "HOmk9G_toKUR",
        "outputId": "9bd07fd4-67cb-4c59-b1ff-0e3b24f59d58"
      },
      "execution_count": null,
      "outputs": [
        {
          "output_type": "stream",
          "name": "stdout",
          "text": [
            "First 3 folders under arxiv_paper_repository/unpack/ : ['arxiv_paper_repository/unpack/0704.0001/', 'arxiv_paper_repository/unpack/0704.0002/', 'arxiv_paper_repository/unpack/0704.0003/']\n"
          ]
        }
      ]
    }
  ]
}